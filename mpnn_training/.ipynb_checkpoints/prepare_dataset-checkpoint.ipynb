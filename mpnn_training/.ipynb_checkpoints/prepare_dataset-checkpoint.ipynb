{
 "cells": [
  {
   "cell_type": "code",
   "execution_count": 1,
   "id": "b247bd95-4456-47e6-8446-6a8de9c26ec1",
   "metadata": {},
   "outputs": [],
   "source": [
    "import pandas as pd\n",
    "pd.set_option('display.max_rows', 500)"
   ]
  },
  {
   "cell_type": "code",
   "execution_count": 2,
   "id": "b7f84985-0a24-4c53-ac20-b30b239dacef",
   "metadata": {},
   "outputs": [],
   "source": [
    "data_artificial = pd.read_csv(\"data/20210205_all_expt_data_no_duplicates_solvent_calcs.csv\")\n"
   ]
  },
  {
   "cell_type": "code",
   "execution_count": 3,
   "id": "dc418255-9ab0-4cee-ac2c-88a9c292df55",
   "metadata": {},
   "outputs": [],
   "source": [
    "# several molecules have 0 in experimetnal absorption results\n",
    "data_artificial = data_artificial[data_artificial[\"peakwavs_max\"] != 0]"
   ]
  },
  {
   "cell_type": "code",
   "execution_count": 4,
   "id": "15cbad60-21d6-4de4-aceb-f4ab401a84bf",
   "metadata": {},
   "outputs": [],
   "source": [
    "# convert nm to ev\n",
    "def nm2ev(wv):\n",
    "    if wv is not None:\n",
    "        return 1239.8 / wv\n",
    "    else:\n",
    "        return wv"
   ]
  },
  {
   "cell_type": "code",
   "execution_count": 5,
   "id": "cc92c06e-358a-4168-b2e2-7deded66b263",
   "metadata": {},
   "outputs": [
    {
     "data": {
      "text/plain": [
       "46"
      ]
     },
     "execution_count": 5,
     "metadata": {},
     "output_type": "execute_result"
    }
   ],
   "source": [
    "# check problematic pigments which have short SMILES strings and \n",
    "# have a strong difference between experimental and computed data\n",
    "# it is highly likely they are artifacts of text mining\n",
    "\n",
    "# slope and intercept are the parameters colaculated by Greenman et al.\n",
    "# to remove systematic error of TD-DFT calculation\n",
    "slope = 1.82\n",
    "intercept = 226.8\n",
    "\n",
    "data_short_smiles = data_artificial[data_artificial[\"smiles\"].apply(len) < 15]\n",
    "difference = abs(data_short_smiles[\"peakwavs_max\"] - slope * data_short_smiles[\"wb97xd3_def2svpd_orca_vac\"] + intercept)\n",
    "\n",
    "# we set a threshhold for difference between experimental and predicted values\n",
    "suspicious_SMILES = data_short_smiles[difference.isna() | (difference > 100.)][\"smiles\"]\n",
    "len(suspicious_SMILES)"
   ]
  },
  {
   "cell_type": "code",
   "execution_count": 6,
   "id": "923d7c27-5957-4e47-b986-923845760de9",
   "metadata": {},
   "outputs": [
    {
     "data": {
      "text/plain": [
       "1815"
      ]
     },
     "execution_count": 6,
     "metadata": {},
     "output_type": "execute_result"
    }
   ],
   "source": [
    "# Examine where calculated data is different more than 100 nm from the experiment\n",
    "# In this case there are potentially molecules which are not recognized correctly\n",
    "# add these data to previously selected suspicious smiles\n",
    "\n",
    "difference = abs(data_artificial[\"peakwavs_max\"] - slope * data_artificial[\"wb97xd3_def2svpd_orca_vac\"] + intercept)\n",
    "suspicious_SMILES = data_artificial[difference > 100.][\"smiles\"] + suspicious_SMILES\n",
    "len(suspicious_SMILES)"
   ]
  },
  {
   "cell_type": "code",
   "execution_count": 7,
   "id": "39742faf-6db0-4357-9849-c2fc6215af98",
   "metadata": {},
   "outputs": [
    {
     "data": {
      "text/plain": [
       "21144"
      ]
     },
     "execution_count": 7,
     "metadata": {},
     "output_type": "execute_result"
    }
   ],
   "source": [
    "# delete these suspicious SMILES string\n",
    "data_artificial = data_artificial[~data_artificial[\"smiles\"].isin(suspicious_SMILES)] \n",
    "len(data_artificial)"
   ]
  },
  {
   "cell_type": "code",
   "execution_count": 8,
   "id": "d3737212-b561-4b96-a738-465005e37827",
   "metadata": {},
   "outputs": [],
   "source": [
    "# nm to eV conversion\n",
    "\n",
    "data_artificial[\"peakwavs_max\"] = data_artificial[\"peakwavs_max\"].apply(nm2ev)"
   ]
  },
  {
   "cell_type": "code",
   "execution_count": 9,
   "id": "4b3b3861-6554-4e0d-b8df-b7aaed3cafb1",
   "metadata": {},
   "outputs": [],
   "source": [
    "# !!! a set of natural compounds with wB97XD4 with TDA and solvation model calculated vertical excitation energies\n",
    "# !!! this file does not come with the repo\n",
    "# !!! To get it the input files has to be generated, and calculations should be run to get lowest excitation energies \n",
    "# !!! and merged with the dataset of natural compounds\n",
    "\n",
    "natural_compounds = pd.read_csv(\"data/pigments_wb97xd4_tda_solv.csv\")"
   ]
  },
  {
   "cell_type": "code",
   "execution_count": 10,
   "id": "f1b79eec-f1e9-40c3-94be-25659addaf81",
   "metadata": {},
   "outputs": [],
   "source": [
    "# wb97xd4 - tda demonstrates a systematic error to remove it use slope and intercept obtained from linear models\n",
    "# this is necessary to obtain linear unbiased estimation of mean absolute errors\n",
    "\n",
    "slope = 0.71839382\n",
    "intercept = 0.3203683403913211\n",
    "\n",
    "natural_compounds[\"mae\"] = abs(intercept + slope * natural_compounds['wavelength_wb97xd_tda_solvent'] - natural_compounds['lambda_max'])"
   ]
  },
  {
   "cell_type": "code",
   "execution_count": 11,
   "id": "af6db878-2867-4d4a-b2bb-6708db16878a",
   "metadata": {},
   "outputs": [
    {
     "data": {
      "text/plain": [
       "595"
      ]
     },
     "execution_count": 11,
     "metadata": {},
     "output_type": "execute_result"
    }
   ],
   "source": [
    "# absorption energies are here in electron-volts;\n",
    "# remove outliers from natural compounds dataset\n",
    "\n",
    "len(natural_compounds[natural_compounds[\"mae\"] < 0.5])"
   ]
  },
  {
   "cell_type": "code",
   "execution_count": 12,
   "id": "16d119ce-4b37-4617-bf07-12712c1bc761",
   "metadata": {},
   "outputs": [],
   "source": [
    "natural_compounds = natural_compounds[natural_compounds[\"mae\"] < 0.5]\n",
    "# rename column 'lambda_max' to \"peakwavs_max\"\n",
    "natural_compounds['peakwavs_max'] = natural_compounds['lambda_max']\n",
    "del natural_compounds['lambda_max']"
   ]
  },
  {
   "cell_type": "code",
   "execution_count": 14,
   "id": "cc2d4096-b2e3-49f2-b9e2-bb7b3cc3c2c4",
   "metadata": {},
   "outputs": [],
   "source": [
    "# create train - test splitting for both ariticial and natural compounds\n",
    "train_artificial = data_artificial.sample(frac = 0.9, random_state=42)\n",
    "test_artificial = data_artificial.drop(train_artificial.index)\n",
    "train_natural = natural_compounds.sample(frac = 0.9, random_state=4200)\n",
    "test_natural = natural_compounds.drop(train_natural.index)\n",
    "\n",
    "# add training label column for chemprop 2.0\n",
    "train_artificial[\"split\"] = [\"train\"] * len(train_artificial)\n",
    "test_artificial[\"split\"] = [\"val\"] * len(test_artificial)\n",
    "train_natural[\"split\"] = [\"train\"] * len(train_natural)\n",
    "test_natural[\"split\"] = [\"test\"] * len(test_natural)\n",
    "\n",
    "# union train data from artificial and natural compounds\n",
    "train_artificial = train_artificial[['smiles', 'solvent', 'peakwavs_max', 'split']]\n",
    "test_artificial = test_artificial[['smiles', 'solvent', 'peakwavs_max', 'split']]\n",
    "train_natural = train_natural[['smiles', 'solvent', 'peakwavs_max', 'split']]\n",
    "test_natural = test_natural[['smiles', 'solvent', 'peakwavs_max', 'split']]\n",
    "\n",
    "train_all = pd.concat((train_artificial, train_natural))\n",
    "# data for training for chemprop 2.0\n",
    "data_all = pd.concat((train_artificial, train_natural, test_artificial, test_natural))"
   ]
  },
  {
   "cell_type": "code",
   "execution_count": 15,
   "id": "305cb94d-9542-485a-91b2-01aeb009326b",
   "metadata": {},
   "outputs": [],
   "source": [
    "# save all training data in csv format \n",
    "train_all.to_csv(\"data/train_all.csv\")\n",
    "test_artificial.to_csv(\"data/test_artificial.csv\")\n",
    "test_natural.to_csv(\"data/test_natural.csv\")\n",
    "data_all.to_csv(\"data_all.csv\")"
   ]
  },
  {
   "cell_type": "code",
   "execution_count": null,
   "id": "ad60e6e6-4ab8-4a88-815e-757be0fcd4c4",
   "metadata": {},
   "outputs": [],
   "source": []
  }
 ],
 "metadata": {
  "kernelspec": {
   "display_name": "Python 3 (ipykernel)",
   "language": "python",
   "name": "python3"
  },
  "language_info": {
   "codemirror_mode": {
    "name": "ipython",
    "version": 3
   },
   "file_extension": ".py",
   "mimetype": "text/x-python",
   "name": "python",
   "nbconvert_exporter": "python",
   "pygments_lexer": "ipython3",
   "version": "3.11.3"
  }
 },
 "nbformat": 4,
 "nbformat_minor": 5
}
